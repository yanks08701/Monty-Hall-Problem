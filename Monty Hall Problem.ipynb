{
 "cells": [
  {
   "cell_type": "markdown",
   "metadata": {},
   "source": [
    "The Monty Hall Problem has a slight misunderstanding that the average person falls into, in that Mr. Hall knows where the car is so he is selective when opening the second door this added information skews your decision.\n",
    "The question we want to answer is should we switch our response are not. \n",
    "The answer to this question goes like this. The chances that a person picks the Car on his first choice is approximately 33.3% and then Mr. Hall opens a door and reveals a donkey should we change or not the answer in this scenario is no. However, the chances that you choose a donkey is about 66.7% and once Mr. Hall opens the other door to reveal a donkey you should definitely change your choice to win the car! So it is actually contingent on your first choice because Mr. Hall has this previous knowledge so actually the chance of you winning the car by switching doors is the chance you chose a donkey at first which is 66.7%, since when you choose a donkey and switch you win the car automatically and the chances you chose the donkey first is 66.7% Therefore it's in your best interest to switch doors."
   ]
  }
 ],
 "metadata": {
  "kernelspec": {
   "display_name": "Python 3",
   "language": "python",
   "name": "python3"
  },
  "language_info": {
   "codemirror_mode": {
    "name": "ipython",
    "version": 3
   },
   "file_extension": ".py",
   "mimetype": "text/x-python",
   "name": "python",
   "nbconvert_exporter": "python",
   "pygments_lexer": "ipython3",
   "version": "3.7.0"
  }
 },
 "nbformat": 4,
 "nbformat_minor": 2
}
